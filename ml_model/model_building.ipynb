{
 "cells": [
  {
   "cell_type": "markdown",
   "metadata": {},
   "source": [
    "### Acknowledgments and Educational Purpose\n",
    "\n",
    "- This project leverages the following existing work for educational purposes: https://github.com/symphopkins/Sentiment140\n",
    "- Dataset: https://www.kaggle.com/datasets/kazanova/sentiment140/data"
   ]
  },
  {
   "cell_type": "markdown",
   "metadata": {},
   "source": [
    "# 1. Load the dataset into memory"
   ]
  },
  {
   "cell_type": "markdown",
   "metadata": {},
   "source": [
    "In this step, we load the dataset into a pandas DataFrame to prepare it for analysis"
   ]
  },
  {
   "cell_type": "code",
   "execution_count": 1,
   "metadata": {},
   "outputs": [],
   "source": [
    "import pandas as pd"
   ]
  },
  {
   "cell_type": "code",
   "execution_count": 2,
   "metadata": {},
   "outputs": [
    {
     "data": {
      "text/html": [
       "<div>\n",
       "<style scoped>\n",
       "    .dataframe tbody tr th:only-of-type {\n",
       "        vertical-align: middle;\n",
       "    }\n",
       "\n",
       "    .dataframe tbody tr th {\n",
       "        vertical-align: top;\n",
       "    }\n",
       "\n",
       "    .dataframe thead th {\n",
       "        text-align: right;\n",
       "    }\n",
       "</style>\n",
       "<table border=\"1\" class=\"dataframe\">\n",
       "  <thead>\n",
       "    <tr style=\"text-align: right;\">\n",
       "      <th></th>\n",
       "      <th>0</th>\n",
       "      <th>1</th>\n",
       "      <th>2</th>\n",
       "      <th>3</th>\n",
       "      <th>4</th>\n",
       "      <th>5</th>\n",
       "    </tr>\n",
       "  </thead>\n",
       "  <tbody>\n",
       "    <tr>\n",
       "      <th>0</th>\n",
       "      <td>0</td>\n",
       "      <td>1467810369</td>\n",
       "      <td>Mon Apr 06 22:19:45 PDT 2009</td>\n",
       "      <td>NO_QUERY</td>\n",
       "      <td>_TheSpecialOne_</td>\n",
       "      <td>@switchfoot http://twitpic.com/2y1zl - Awww, t...</td>\n",
       "    </tr>\n",
       "    <tr>\n",
       "      <th>1</th>\n",
       "      <td>0</td>\n",
       "      <td>1467810672</td>\n",
       "      <td>Mon Apr 06 22:19:49 PDT 2009</td>\n",
       "      <td>NO_QUERY</td>\n",
       "      <td>scotthamilton</td>\n",
       "      <td>is upset that he can't update his Facebook by ...</td>\n",
       "    </tr>\n",
       "    <tr>\n",
       "      <th>2</th>\n",
       "      <td>0</td>\n",
       "      <td>1467810917</td>\n",
       "      <td>Mon Apr 06 22:19:53 PDT 2009</td>\n",
       "      <td>NO_QUERY</td>\n",
       "      <td>mattycus</td>\n",
       "      <td>@Kenichan I dived many times for the ball. Man...</td>\n",
       "    </tr>\n",
       "    <tr>\n",
       "      <th>3</th>\n",
       "      <td>0</td>\n",
       "      <td>1467811184</td>\n",
       "      <td>Mon Apr 06 22:19:57 PDT 2009</td>\n",
       "      <td>NO_QUERY</td>\n",
       "      <td>ElleCTF</td>\n",
       "      <td>my whole body feels itchy and like its on fire</td>\n",
       "    </tr>\n",
       "    <tr>\n",
       "      <th>4</th>\n",
       "      <td>0</td>\n",
       "      <td>1467811193</td>\n",
       "      <td>Mon Apr 06 22:19:57 PDT 2009</td>\n",
       "      <td>NO_QUERY</td>\n",
       "      <td>Karoli</td>\n",
       "      <td>@nationwideclass no, it's not behaving at all....</td>\n",
       "    </tr>\n",
       "  </tbody>\n",
       "</table>\n",
       "</div>"
      ],
      "text/plain": [
       "   0           1                             2         3                4  \\\n",
       "0  0  1467810369  Mon Apr 06 22:19:45 PDT 2009  NO_QUERY  _TheSpecialOne_   \n",
       "1  0  1467810672  Mon Apr 06 22:19:49 PDT 2009  NO_QUERY    scotthamilton   \n",
       "2  0  1467810917  Mon Apr 06 22:19:53 PDT 2009  NO_QUERY         mattycus   \n",
       "3  0  1467811184  Mon Apr 06 22:19:57 PDT 2009  NO_QUERY          ElleCTF   \n",
       "4  0  1467811193  Mon Apr 06 22:19:57 PDT 2009  NO_QUERY           Karoli   \n",
       "\n",
       "                                                   5  \n",
       "0  @switchfoot http://twitpic.com/2y1zl - Awww, t...  \n",
       "1  is upset that he can't update his Facebook by ...  \n",
       "2  @Kenichan I dived many times for the ball. Man...  \n",
       "3    my whole body feels itchy and like its on fire   \n",
       "4  @nationwideclass no, it's not behaving at all....  "
      ]
     },
     "execution_count": 2,
     "metadata": {},
     "output_type": "execute_result"
    }
   ],
   "source": [
    "# Reading the dataset CSV file into a pandas DataFrame\n",
    "# Note: The encoding was changed from 'utf-8' to 'ISO-8859-1' due to encoding issues in the original file\n",
    "# - 'header=None' ensures no row is treated as a header since the dataset lacks column headers\n",
    "df_original = pd.read_csv(r'training.1600000.processed.noemoticon.csv', encoding='ISO-8859-1', header=None)\n",
    "df_original.head()"
   ]
  },
  {
   "cell_type": "markdown",
   "metadata": {},
   "source": [
    "After running, we can see 6 columns without headers"
   ]
  },
  {
   "cell_type": "markdown",
   "metadata": {},
   "source": [
    "# 2. Exploratory data analysis"
   ]
  },
  {
   "cell_type": "code",
   "execution_count": 3,
   "metadata": {},
   "outputs": [
    {
     "data": {
      "text/plain": [
       "(1600000, 6)"
      ]
     },
     "execution_count": 3,
     "metadata": {},
     "output_type": "execute_result"
    }
   ],
   "source": [
    "df_original.shape"
   ]
  },
  {
   "cell_type": "markdown",
   "metadata": {},
   "source": [
    "- The dataset contains **1.6 million rows** (Note: each row is an observation) and **6 columns**.\n",
    "- This matches the description provided on the Dataset's site, confirming the data was loaded correctly."
   ]
  },
  {
   "cell_type": "code",
   "execution_count": 4,
   "metadata": {},
   "outputs": [
    {
     "name": "stdout",
     "output_type": "stream",
     "text": [
      "<class 'pandas.core.frame.DataFrame'>\n",
      "RangeIndex: 1600000 entries, 0 to 1599999\n",
      "Data columns (total 6 columns):\n",
      " #   Column  Non-Null Count    Dtype \n",
      "---  ------  --------------    ----- \n",
      " 0   0       1600000 non-null  int64 \n",
      " 1   1       1600000 non-null  int64 \n",
      " 2   2       1600000 non-null  object\n",
      " 3   3       1600000 non-null  object\n",
      " 4   4       1600000 non-null  object\n",
      " 5   5       1600000 non-null  object\n",
      "dtypes: int64(2), object(4)\n",
      "memory usage: 73.2+ MB\n"
     ]
    }
   ],
   "source": [
    "df_original.info()"
   ]
  },
  {
   "cell_type": "markdown",
   "metadata": {},
   "source": [
    "### Observations:\n",
    "- All 1.6 million entries are **non-null** for all columns, meaning there are no missing values.\n",
    "- Column data types:\n",
    "  - **Column `0`**: Sentiment labels (`int64`)\n",
    "  - **Column `1`**: Tweet IDs (`int64`)\n",
    "  - **Columns `2`, `3`, `4`, and `5`**: Object data types, with `5` containing the tweet text.\n",
    "\n",
    "### Notes:\n",
    "- **Column `0`** (Sentiment) and **Column `5`** (Tweet Text) are the primary focus for our analysis.\n",
    "- Other columns, such as **Column `1`** (Tweet ID), are not relevant for our project."
   ]
  },
  {
   "cell_type": "code",
   "execution_count": 5,
   "metadata": {},
   "outputs": [
    {
     "data": {
      "text/plain": [
       "0\n",
       "0    800000\n",
       "4    800000\n",
       "Name: count, dtype: int64"
      ]
     },
     "execution_count": 5,
     "metadata": {},
     "output_type": "execute_result"
    }
   ],
   "source": [
    "df_original[0].value_counts()"
   ]
  },
  {
   "cell_type": "markdown",
   "metadata": {},
   "source": [
    "Now, we examine the distribution of sentiment labels in **Column 0** to understand the class balance in the dataset.\n",
    "\n",
    "### Observations:\n",
    "- The dataset's description indicates three possible sentiment labels:\n",
    "  - **0**: Negative\n",
    "  - **2**: Neutral\n",
    "  - **4**: Positive\n",
    "- However, only **0 (negative)** and **4 (positive)** are present in the dataset:\n",
    "  - **800,000 instances** of negative sentiment.\n",
    "  - **800,000 instances** of positive sentiment.\n",
    "- **Neutral sentiment (2)** is absent, which means the dataset only contains binary classification data.\n",
    "\n",
    "### Note:\n",
    "- The absence of neutral sentiment simplifies the task to a binary classification problem.\n",
    "- The model can still interpolate between the extremes (0 and 4) without needing a neutral label."
   ]
  },
  {
   "cell_type": "code",
   "execution_count": 6,
   "metadata": {},
   "outputs": [
    {
     "data": {
      "image/png": "[encoded data removed]",
      "text/plain": [
       "<Figure size 640x480 with 1 Axes>"
      ]
     },
     "metadata": {},
     "output_type": "display_data"
    },
    {
     "data": {
      "image/png": "[encoded data removed]",
      "text/plain": [
       "<Figure size 640x480 with 1 Axes>"
      ]
     },
     "metadata": {},
     "output_type": "display_data"
    }
   ],
   "source": [
    "import numpy as np\n",
    "import matplotlib.pyplot as plt\n",
    "\n",
    "# Extracting the length (number of characters) of each tweet in Column 5 (tweet text)\n",
    "tweet_lengths = df_original[5].str.len()\n",
    "\n",
    "# Creating bin edges for the histogram with a bin width of 50\n",
    "bin_edges_lengths = np.arange(0, tweet_lengths.max() + 50, 50)  # Bin width of 50\n",
    "\n",
    "# Plotting a histogram of tweet lengths (in characters)\n",
    "plt.hist(tweet_lengths, bins=bin_edges_lengths, edgecolor='black')\n",
    "plt.xticks(bin_edges_lengths)  # Setting x-axis ticks to match bin edges\n",
    "plt.title('Tweet Lengths')  # Adding a title\n",
    "plt.xlabel('Length (in characters)')  # Labeling the x-axis\n",
    "plt.ylabel('Frequency')  # Labeling the y-axis\n",
    "plt.show()  # Display the plot\n",
    "\n",
    "# Extracting the word count (number of words) for each tweet in Column 5\n",
    "tweet_word_counts = df_original[5].str.split().str.len()\n",
    "\n",
    "# Creating bin edges for the histogram with a bin width of 5\n",
    "bin_edges_words = np.arange(0, tweet_word_counts.max() + 10, 10)  # Bin width of 5\n",
    "\n",
    "# Plotting a histogram to visualize the distribution of word counts in tweets\n",
    "plt.xticks(bin_edges_words)  # Setting x-axis ticks to match bin edges\n",
    "plt.title('Tweet Word Count')  # Adding a title\n",
    "plt.xlabel('Word Count')  # Labeling the x-axis\n",
    "plt.ylabel('Frequency')  # Labeling the y-axis\n",
    "plt.show()  # Display the plot\n"
   ]
  },
  {
   "cell_type": "markdown",
   "metadata": {},
   "source": [
    "Now, we analyze the distribution of tweet lengths (number of characters) and word counts.\n",
    "\n",
    "**Observations**:\n",
    "- Most tweets in the dataset have lengths between **50 and 150 characters**\n",
    "- There are no tweets exceeding the 280-character limit, as expected.\n",
    "- The majority of tweets contain **10 to 20 words**.\n",
    "\n",
    "### Note:\n",
    "- I am uncertain whether this distribution of tweet lengths and word counts is ideal for NLP model training. I am **guessing** that it is.\n"
   ]
  },
  {
   "cell_type": "markdown",
   "metadata": {},
   "source": [
    "# 3. Clean and preprocess the text"
   ]
  },
  {
   "cell_type": "markdown",
   "metadata": {},
   "source": [
    "## 3.1 Preparing Relevant Columns, Sampling, and Regularizing"
   ]
  },
  {
   "cell_type": "code",
   "execution_count": 7,
   "metadata": {},
   "outputs": [],
   "source": [
    "# Select only the relevant columns from the original dataset\n",
    "# - Column 0: Sentiment polarity (renamed to 'polarity')\n",
    "# - Column 5: Tweet text (renamed to 'tweet')\n",
    "df_relevant = df_original[[0,5]].rename(columns={0: 'polarity', 5: 'tweet'})"
   ]
  },
  {
   "cell_type": "markdown",
   "metadata": {},
   "source": [
    "- Training on the full dataset (1.6 million rows) would be computationally expensive.\n",
    "- To speed up training, we randomly sample **20,000 rows** from the dataset.\n",
    "- A `random_state` of 42 ensures the results are reproducible."
   ]
  },
  {
   "cell_type": "code",
   "execution_count": 8,
   "metadata": {},
   "outputs": [],
   "source": [
    "# Sampling a smaller dataset\n",
    "# - Randomly sample 20,000 rows from the dataset\n",
    "# - A fixed random_state ensures reproducibility\n",
    "df_sampled = df_relevant.sample(n=20000, random_state=42)"
   ]
  },
  {
   "cell_type": "markdown",
   "metadata": {},
   "source": [
    "Normalize these values to the range `[0, 1]`, as this normalization helps interpret the values as probabilities"
   ]
  },
  {
   "cell_type": "code",
   "execution_count": 9,
   "metadata": {},
   "outputs": [],
   "source": [
    "# Regularizing the polarity values to the range [0, 1]\n",
    "# - Original polarity values are 0 (negative) and 4 (positive)\n",
    "# - Divide by 4 to scale 0 → 0 and 4 → 1\n",
    "df_sampled['polarity'] = df_sampled['polarity'] / 4"
   ]
  },
  {
   "cell_type": "markdown",
   "metadata": {},
   "source": [
    "## 3.2 Function to clean strings"
   ]
  },
  {
   "cell_type": "markdown",
   "metadata": {},
   "source": [
    "This step involves defining and applying a cleaning function to preprocess the raw tweet text."
   ]
  },
  {
   "cell_type": "code",
   "execution_count": 10,
   "metadata": {},
   "outputs": [
    {
     "data": {
      "text/html": [
       "<div>\n",
       "<style scoped>\n",
       "    .dataframe tbody tr th:only-of-type {\n",
       "        vertical-align: middle;\n",
       "    }\n",
       "\n",
       "    .dataframe tbody tr th {\n",
       "        vertical-align: top;\n",
       "    }\n",
       "\n",
       "    .dataframe thead th {\n",
       "        text-align: right;\n",
       "    }\n",
       "</style>\n",
       "<table border=\"1\" class=\"dataframe\">\n",
       "  <thead>\n",
       "    <tr style=\"text-align: right;\">\n",
       "      <th></th>\n",
       "      <th>polarity</th>\n",
       "      <th>tweet</th>\n",
       "    </tr>\n",
       "  </thead>\n",
       "  <tbody>\n",
       "    <tr>\n",
       "      <th>541200</th>\n",
       "      <td>0.0</td>\n",
       "      <td>ahhh i hope your ok</td>\n",
       "    </tr>\n",
       "    <tr>\n",
       "      <th>750</th>\n",
       "      <td>0.0</td>\n",
       "      <td>cool i have no tweet apps for my razr 2</td>\n",
       "    </tr>\n",
       "    <tr>\n",
       "      <th>766711</th>\n",
       "      <td>0.0</td>\n",
       "      <td>i know just family drama its lame hey next tim...</td>\n",
       "    </tr>\n",
       "    <tr>\n",
       "      <th>285055</th>\n",
       "      <td>0.0</td>\n",
       "      <td>school email won t open and i have geography s...</td>\n",
       "    </tr>\n",
       "    <tr>\n",
       "      <th>705995</th>\n",
       "      <td>0.0</td>\n",
       "      <td>upper airways problem</td>\n",
       "    </tr>\n",
       "  </tbody>\n",
       "</table>\n",
       "</div>"
      ],
      "text/plain": [
       "        polarity                                              tweet\n",
       "541200       0.0                                ahhh i hope your ok\n",
       "750          0.0            cool i have no tweet apps for my razr 2\n",
       "766711       0.0  i know just family drama its lame hey next tim...\n",
       "285055       0.0  school email won t open and i have geography s...\n",
       "705995       0.0                              upper airways problem"
      ]
     },
     "execution_count": 10,
     "metadata": {},
     "output_type": "execute_result"
    }
   ],
   "source": [
    "import re\n",
    "\n",
    "# Defining a function to clean the text\n",
    "def clean_text(text):\n",
    "    \"\"\"\n",
    "    Cleans the input text by performing the following operations:\n",
    "    1. Removes occurrences of \"nan\", mentions (@username), punctuation, URLs, \n",
    "       and any non-alphanumeric characters.\n",
    "    2. Replaces all these removed components with a single space.\n",
    "    3. Removes leading and trailing whitespace from the cleaned text.\n",
    "    4. Converts the cleaned text to lowercase.\n",
    "    \n",
    "    Args:\n",
    "    - text (str): The raw tweet text to be cleaned.\n",
    "    \n",
    "    Returns:\n",
    "    - str: The cleaned text.\n",
    "    \"\"\"\n",
    "    # Remove unwanted components using regex, then split to ensure proper spacing\n",
    "    text = ' '.join(re.sub(r\"(nan)|(@[A-Za-z0-9]+)|([^0-9A-Za-z \\t])|(\\w+:\\/\\/\\S+)\", \" \", text).split())\n",
    "    # Strip leading/trailing spaces and convert text to lowercase\n",
    "    return text.strip().lower()\n",
    "\n",
    "# Applying the clean_text function to the 'tweet' column in the sampled dataset\n",
    "# - Each row of the 'tweet' column is processed using the clean_text function\n",
    "df_sampled['tweet'] = df_sampled['tweet'].apply(clean_text)\n",
    "\n",
    "# Displaying the first 5 rows of the cleaned dataset to verify the cleaning process\n",
    "df_sampled.head()"
   ]
  },
  {
   "cell_type": "markdown",
   "metadata": {},
   "source": [
    "## 3.3 Train test split"
   ]
  },
  {
   "cell_type": "markdown",
   "metadata": {},
   "source": [
    "Now, split the data into train and test datasets (80-20 split)"
   ]
  },
  {
   "cell_type": "code",
   "execution_count": 11,
   "metadata": {},
   "outputs": [],
   "source": [
    "# importing library\n",
    "from sklearn.model_selection import train_test_split"
   ]
  },
  {
   "cell_type": "code",
   "execution_count": 12,
   "metadata": {},
   "outputs": [
    {
     "name": "stdout",
     "output_type": "stream",
     "text": [
      "X_train dimension: (16000,); y_train dimension: (16000,)\n",
      "X_test dimension: (4000,); y_train dimension: (4000,)\n"
     ]
    }
   ],
   "source": [
    "# Extracting features (tweet text) and labels (polarity) from the sampled dataset\n",
    "X = df_sampled['tweet']  # Features: the cleaned tweet text\n",
    "y = df_sampled['polarity']  # Labels: normalized polarity values\n",
    "\n",
    "# Splitting the data into training and testing sets\n",
    "# - test_size=0.2: 20% of the data is reserved for testing\n",
    "# - random_state=42: Ensures reproducibility of the split\n",
    "# - stratify=y: Ensures the same distribution of polarity values in both training and testing sets\n",
    "X_train, X_test, y_train, y_test = train_test_split(X, y, test_size=0.2, random_state=42, stratify=y)\n",
    "\n",
    "# Printing the shapes of the resulting datasets for verification\n",
    "print(f'X_train dimension: {X_train.shape}; y_train dimension: {y_train.shape}')\n",
    "print(f'X_test dimension: {X_test.shape}; y_train dimension: {y_test.shape}')"
   ]
  },
  {
   "cell_type": "markdown",
   "metadata": {},
   "source": [
    "For the last step, we will create a function that performs tokenization and lemmatization on the tweets. This function will be implemented into our models later on."
   ]
  },
  {
   "cell_type": "code",
   "execution_count": 13,
   "metadata": {},
   "outputs": [],
   "source": [
    "import spacy # SpaCy is used for advanced natural language processing\n",
    "from spacy.lang.en import English\n",
    "from spacy.lang.en.stop_words import STOP_WORDS"
   ]
  },
  {
   "cell_type": "code",
   "execution_count": 14,
   "metadata": {},
   "outputs": [],
   "source": [
    "# Loading the small English language model in SpaCy\n",
    "# - \"en_core_web_sm\" is a lightweight model suitable for small datasets\n",
    "nlp = spacy.load(\"en_core_web_sm\")\n",
    "\n",
    "# Accessing the predefined set of stop words from SpaCy\n",
    "stop_words = spacy.lang.en.stop_words.STOP_WORDS\n",
    "\n",
    "# Defining a function to tokenize and lemmatize a given sentence\n",
    "def spacy_tokenizer(sentence):\n",
    "    \"\"\"\n",
    "    Tokenizes and lemmatizes the input sentence using SpaCy.\n",
    "    The function performs the following:\n",
    "    1. Splits the sentence into individual tokens/words.\n",
    "    2. Removes stop words (commonly used words with little meaning, e.g., \"the\", \"and\").\n",
    "    3. Converts words into their base forms (lemmas) to standardize variations.\n",
    "\n",
    "    Args:\n",
    "    - sentence (str): The input sentence to process.\n",
    "\n",
    "    Returns:\n",
    "    - List[str]: A list of lemmatized words excluding stop words.\n",
    "    \"\"\"\n",
    "    # Tokenize the sentence into individual words using the SpaCy pipeline\n",
    "    mytokens = nlp(sentence)\n",
    "\n",
    "    # Remove stop words and retain only the lemmatized forms of the tokens\n",
    "    mytokens = [word.lemma_ for word in mytokens if word.text.lower() not in stop_words]\n",
    "    \n",
    "    # Return the cleaned list of lemmatized tokens\n",
    "    return mytokens"
   ]
  },
  {
   "cell_type": "markdown",
   "metadata": {},
   "source": [
    "# 4. Build the model"
   ]
  },
  {
   "cell_type": "code",
   "execution_count": 15,
   "metadata": {},
   "outputs": [],
   "source": [
    "from sklearn.feature_extraction.text import TfidfVectorizer\n",
    "from sklearn.pipeline import Pipeline\n",
    "from sklearn.preprocessing import FunctionTransformer\n",
    "from sklearn.svm import SVR\n",
    "from time import time"
   ]
  },
  {
   "cell_type": "code",
   "execution_count": 16,
   "metadata": {},
   "outputs": [],
   "source": [
    "# Defining a wrapper function for the text cleaning step\n",
    "def text_cleaner(x):\n",
    "    \"\"\"\n",
    "    Cleans a list of text inputs using the clean_text function.\n",
    "    Specifically for use in the SVR pipeline's preprocessing step.\n",
    "\n",
    "    Args:\n",
    "    - x (list of str): List of raw text inputs.\n",
    "\n",
    "    Returns:\n",
    "    - list of str: List of cleaned text inputs.\n",
    "    \"\"\"\n",
    "    return [clean_text(t) for t in x]  # Applies clean_text function to each input in the list"
   ]
  },
  {
   "cell_type": "code",
   "execution_count": 17,
   "metadata": {},
   "outputs": [
    {
     "name": "stdout",
     "output_type": "stream",
     "text": [
      "This took 242.3 seconds\n"
     ]
    }
   ],
   "source": [
    "# Timing the code execution\n",
    "t0 = time()\n",
    "\n",
    "# Using FunctionTransformer to apply the clean_text function within the pipeline\n",
    "cleaner = FunctionTransformer(text_cleaner)\n",
    "\n",
    "# Configuring the TF-IDF Vectorizer\n",
    "# - tokenizer=spacy_tokenizer: Uses the custom tokenizer for tokenization and lemmatization\n",
    "# - ngram_range=(1,1): Considers unigrams (single words) only\n",
    "# - token_pattern=None: Disables the default regex-based tokenization to allow `spacy_tokenizer` to handle tokenization.\n",
    "tfidf_vector = TfidfVectorizer(tokenizer = spacy_tokenizer, ngram_range = (1,1), token_pattern = None)\n",
    "\n",
    "# Initializing the Support Vector Regressor (SVR)\n",
    "regressor = SVR()\n",
    "\n",
    "# Creating the pipeline\n",
    "# - Combines the cleaner, vectorizer, and regressor into a single pipeline\n",
    "pipeline = Pipeline ([(\"cleaner\", cleaner),\n",
    "                 (\"vectorizer\", tfidf_vector),\n",
    "                 (\"regressor\", regressor)])\n",
    "\n",
    "# Fitting the pipeline to the training data\n",
    "pipeline.fit(X_train, y_train)\n",
    "\n",
    "# Displaying code execution time\n",
    "print(f\"This took {time() - t0:.1f} seconds\")"
   ]
  },
  {
   "cell_type": "markdown",
   "metadata": {},
   "source": [
    "Now let's see how good is the model:"
   ]
  },
  {
   "cell_type": "code",
   "execution_count": 18,
   "metadata": {},
   "outputs": [
    {
     "name": "stdout",
     "output_type": "stream",
     "text": [
      "MSE: 0.17951278796961445, MAE: 0.3663678425827072\n"
     ]
    }
   ],
   "source": [
    "from sklearn.metrics import mean_squared_error, mean_absolute_error\n",
    "\n",
    "# Using the pipeline to predict sentiment polarity for the test dataset\n",
    "y_pred = pipeline.predict(X_test)\n",
    "\n",
    "# Calculating evaluation metrics:\n",
    "# - MSE (Mean Squared Error): Indicates how close the predictions are to the actual values (lower is better).\n",
    "# - MAE (Mean Absolute Error): Represents the average magnitude of errors in the predictions (lower is better).\n",
    "mse = mean_squared_error(y_test, y_pred)\n",
    "mae = mean_absolute_error(y_test, y_pred)\n",
    "\n",
    "# Printing the calculated metrics\n",
    "print(f\"MSE: {mse}, MAE: {mae}\")\n"
   ]
  },
  {
   "cell_type": "markdown",
   "metadata": {},
   "source": [
    "# 5. Save the model"
   ]
  },
  {
   "cell_type": "markdown",
   "metadata": {},
   "source": [
    "In this following code, `cloudpickle` was chosen because it can serialize certain objects that cannot be serialized by `pickle` or `joblib` (E.g. `FunctionTransformer` that apply custom functions to transform data)."
   ]
  },
  {
   "cell_type": "code",
   "execution_count": 19,
   "metadata": {},
   "outputs": [
    {
     "name": "stdout",
     "output_type": "stream",
     "text": [
      "Model saved!\n"
     ]
    }
   ],
   "source": [
    "import cloudpickle\n",
    "\n",
    "# Save the model using cloudpickle\n",
    "with open(\"svr_pipeline.pkl\", \"wb\") as file:\n",
    "    cloudpickle.dump(pipeline, file)\n",
    "    \n",
    "print(\"Model saved!\")"
   ]
  }
 ],
 "metadata": {
  "kernelspec": {
   "display_name": "venv",
   "language": "python",
   "name": "python3"
  },
  "language_info": {
   "codemirror_mode": {
    "name": "ipython",
    "version": 3
   },
   "file_extension": ".py",
   "mimetype": "text/x-python",
   "name": "python",
   "nbconvert_exporter": "python",
   "pygments_lexer": "ipython3",
   "version": "3.11.5"
  }
 },
 "nbformat": 4,
 "nbformat_minor": 2
}
