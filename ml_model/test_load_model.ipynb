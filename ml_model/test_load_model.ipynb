{
 "cells": [
  {
   "cell_type": "code",
   "execution_count": 3,
   "metadata": {},
   "outputs": [
    {
     "name": "stdout",
     "output_type": "stream",
     "text": [
      "[0.18160747 0.87952142 0.59361758]\n"
     ]
    }
   ],
   "source": [
    "import cloudpickle\n",
    "\n",
    "# Prepare new data for prediction\n",
    "new_tweets = [\n",
    "    \"I hated the service\", \n",
    "    \"Amazing experience!\", \n",
    "    \"It's okay, could be better\"\n",
    "]\n",
    "\n",
    "# Loading the trained model pipeline back from the saved file\n",
    "# - The model was saved as 'svr_pipeline.pkl' using cloudpickle\n",
    "# - It includes all preprocessing steps (cleaner, vectorizer) and the SVR model\n",
    "with open(\"svr_pipeline.pkl\", \"rb\") as file:\n",
    "    model = cloudpickle.load(file)\n",
    "\n",
    "# Using the loaded model to make predictions on the new tweets\n",
    "# - model.predict transforms the input data through the pipeline and outputs sentiment probabilities\n",
    "# - Each prediction is a probability indicating the sentiment polarity:\n",
    "#   - Close to 0.0: Negative sentiment.\n",
    "#   - Close to 1.0: Positive sentiment.\n",
    "print(model.predict(new_tweets))\n"
   ]
  }
 ],
 "metadata": {
  "kernelspec": {
   "display_name": "venv",
   "language": "python",
   "name": "python3"
  },
  "language_info": {
   "codemirror_mode": {
    "name": "ipython",
    "version": 3
   },
   "file_extension": ".py",
   "mimetype": "text/x-python",
   "name": "python",
   "nbconvert_exporter": "python",
   "pygments_lexer": "ipython3",
   "version": "3.11.5"
  }
 },
 "nbformat": 4,
 "nbformat_minor": 2
}
